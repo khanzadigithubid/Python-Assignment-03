{
  "nbformat": 4,
  "nbformat_minor": 0,
  "metadata": {
    "colab": {
      "provenance": []
    },
    "kernelspec": {
      "name": "python3",
      "display_name": "Python 3"
    },
    "language_info": {
      "name": "python"
    }
  },
  "cells": [
    {
      "cell_type": "markdown",
      "source": [
        "KHANZADI WAZIR ALI\n",
        "\n",
        "00272819\n",
        "\n",
        "ASSIGNMENT 03\n",
        "\n",
        "Python Assignment List Tuples and methods\n",
        "\n",
        "\n",
        "Basic List Operations\n",
        "\n",
        "1. Create a list of five numbers and append a new number to it. Print the updated list.\n",
        "\n",
        "2. Extend a list [1, 2, 3] with another list [4, 5, 6]. Print the result.\n",
        "\n",
        "3. Insert the string \"Python\" at index 2 in the list [\"Java\", \"C++\", \"JavaScript\", \"Ruby\"].\n",
        "\n",
        "4. Remove the first occurrence of the number 10 from the list [10, 20, 30, 10, 40].\n",
        "\n",
        "5. Use the pop() method to remove the last element from [100, 200, 300, 400] and print the modified list."
      ],
      "metadata": {
        "id": "M72y7Xi-NO_W"
      }
    },
    {
      "cell_type": "code",
      "execution_count": null,
      "metadata": {
        "colab": {
          "base_uri": "https://localhost:8080/"
        },
        "id": "8pDS6YDzNHKG",
        "outputId": "2c35ef54-90a3-46ce-d4f3-f9186bca9fc3"
      },
      "outputs": [
        {
          "output_type": "stream",
          "name": "stdout",
          "text": [
            "[10, 20, 30, 40, 50, 60]\n"
          ]
        }
      ],
      "source": [
        "# 1. Create a list of five numbers and append a new number to it. Print the updated list.\n",
        "\n",
        "# Create a list of five numbers\n",
        "numbers = [10, 20, 30, 40, 50]\n",
        "\n",
        "# Append a new number to the list\n",
        "numbers.append(60)\n",
        "\n",
        "# Print the updated list\n",
        "print(numbers)"
      ]
    },
    {
      "cell_type": "code",
      "source": [
        "# 2. Extend a list [1, 2, 3] with another list [4, 5, 6]. Print the result.\n",
        "\n",
        "# Create a two list\n",
        "list1 = [1, 2, 3, 4, 5]\n",
        "list2 = [6, 7, 8, 9, 10]\n",
        "\n",
        "# Extend list1 with list2\n",
        "list1.extend(list2)\n",
        "\n",
        "# Print the result\n",
        "print(list1)"
      ],
      "metadata": {
        "colab": {
          "base_uri": "https://localhost:8080/"
        },
        "id": "cvAKhhJERqgl",
        "outputId": "9ba9af57-2934-468d-84f0-2a6a80f40f9e"
      },
      "execution_count": null,
      "outputs": [
        {
          "output_type": "stream",
          "name": "stdout",
          "text": [
            "[1, 2, 3, 4, 5, 6, 7, 8, 9, 10]\n"
          ]
        }
      ]
    },
    {
      "cell_type": "code",
      "source": [
        "# 3. Insert the string \"Python\" at index 2 in the list [\"Java\", \"C++\", \"JavaScript\", \"Ruby\"].\n",
        "\n",
        "# Create a list\n",
        "languages = [\"Java\", \"C++\", \"JavaScript\", \"Ruby\"]\n",
        "\n",
        "# Insert the string \"Python\" at index 2\n",
        "languages.insert(2, \"Python\")\n",
        "\n",
        "# Print the result\n",
        "print(languages)"
      ],
      "metadata": {
        "colab": {
          "base_uri": "https://localhost:8080/"
        },
        "id": "nuwwo0xETGjb",
        "outputId": "ccb17bc1-59b1-4e3c-b50e-c88b93aa2e7c"
      },
      "execution_count": null,
      "outputs": [
        {
          "output_type": "stream",
          "name": "stdout",
          "text": [
            "['Java', 'C++', 'Python', 'JavaScript', 'Ruby']\n"
          ]
        }
      ]
    },
    {
      "cell_type": "code",
      "source": [
        "# 4. Remove the first occurrence of the number 10 from the list [10, 20, 30, 10, 40].\n",
        "\n",
        "# Create a list\n",
        "numbers = [10, 20, 30, 10, 40]\n",
        "\n",
        "# Remove the first occurrence of the number 10\n",
        "numbers.remove(10)\n",
        "\n",
        "# Print the result\n",
        "print(numbers)"
      ],
      "metadata": {
        "colab": {
          "base_uri": "https://localhost:8080/"
        },
        "id": "V9V8n1LWUVHr",
        "outputId": "6c5f853b-c34e-4f2b-84ea-c4aacc9b1b02"
      },
      "execution_count": null,
      "outputs": [
        {
          "output_type": "stream",
          "name": "stdout",
          "text": [
            "[20, 30, 10, 40]\n"
          ]
        }
      ]
    },
    {
      "cell_type": "code",
      "source": [
        " # 5. Use the pop() method to remove the last element from [100, 200, 300, 400] and print the modified list.\n",
        "\n",
        " # Create the list\n",
        "numbers = [100, 200, 300, 400]\n",
        "\n",
        "# Use the pop() method to remove the last element\n",
        "numbers.pop()\n",
        "\n",
        "# Print the result\n",
        "print(numbers)"
      ],
      "metadata": {
        "colab": {
          "base_uri": "https://localhost:8080/"
        },
        "id": "kNrqa6TlVKjL",
        "outputId": "320c362f-3b17-49e2-d524-2633462ac541"
      },
      "execution_count": null,
      "outputs": [
        {
          "output_type": "stream",
          "name": "stdout",
          "text": [
            "[100, 200, 300]\n"
          ]
        }
      ]
    },
    {
      "cell_type": "markdown",
      "source": [
        "Intermediate List Operations\n",
        "\n",
        "6. Count how many times the number 5 appears in the list [5, 10, 5, 20, 5, 30].\n",
        "\n",
        "7. Sort the list [9, 1, 8, 3, 5] in ascending and descending order.\n",
        "\n",
        "8. Reverse the list [“apple”, “banana”, “cherry”] using the reverse() method.\n",
        "\n",
        "9. Create a copy of the list [1, 2, 3, 4, 5] and store it in another variable. Modify the copied list and print both lists.\n",
        "\n",
        "10. Clear all elements from a list [“hello”, “world”, “python”] using the clear() method."
      ],
      "metadata": {
        "id": "4nKRN52vWF1e"
      }
    },
    {
      "cell_type": "code",
      "source": [
        "# 6. Count how many times the number 5 appears in the list [5, 10, 5, 20, 5, 30].\n",
        "\n",
        "# Create the list\n",
        "numbers = [5, 10, 5, 20, 5, 30]\n",
        "\n",
        "# Count how many times the number 5 appears\n",
        "count_5 = numbers.count(5)\n",
        "\n",
        "# Print the result\n",
        "print(\"The number 5 appears\", count_5, \"times in the list.\")"
      ],
      "metadata": {
        "colab": {
          "base_uri": "https://localhost:8080/"
        },
        "id": "X39pQsGFWB6j",
        "outputId": "227b0634-76cc-4ab7-8eea-12f591d19929"
      },
      "execution_count": null,
      "outputs": [
        {
          "output_type": "stream",
          "name": "stdout",
          "text": [
            "The number 5 appears 3 times in the list.\n"
          ]
        }
      ]
    },
    {
      "cell_type": "code",
      "source": [
        "# 7. Sort the list [9, 1, 8, 3, 5] in ascending and descending order.\n",
        "\n",
        "# Create the list\n",
        "numbers = [9, 1, 8, 3, 5]\n",
        "\n",
        "# Sort in ascending order\n",
        "ascending_order = sorted(numbers)\n",
        "\n",
        "# Sort in descending order\n",
        "descending_order = sorted(numbers, reverse=True)\n",
        "\n",
        "# Print the results\n",
        "print(\"Ascending Order:\", ascending_order)\n",
        "print(\"Descending Order:\", descending_order)"
      ],
      "metadata": {
        "colab": {
          "base_uri": "https://localhost:8080/"
        },
        "id": "AHUjNnBlXNic",
        "outputId": "c1359b2b-4452-4465-ad8e-d6119b263854"
      },
      "execution_count": null,
      "outputs": [
        {
          "output_type": "stream",
          "name": "stdout",
          "text": [
            "Ascending Order: [1, 3, 5, 8, 9]\n",
            "Descending Order: [9, 8, 5, 3, 1]\n"
          ]
        }
      ]
    },
    {
      "cell_type": "code",
      "source": [
        "# 8. Reverse the list [“apple”, “banana”, “cherry”] using the reverse() method.\n",
        "\n",
        "# Create the list\n",
        "fruits = [\"apple\", \"banana\", \"cherry\"]\n",
        "\n",
        "# Reverse the list\n",
        "fruits.reverse()\n",
        "\n",
        "# Print the result\n",
        "print(fruits)"
      ],
      "metadata": {
        "colab": {
          "base_uri": "https://localhost:8080/"
        },
        "id": "6O8ztACOYO7Q",
        "outputId": "4d1d7aaf-2966-4d87-a496-4d3c39694e8e"
      },
      "execution_count": null,
      "outputs": [
        {
          "output_type": "stream",
          "name": "stdout",
          "text": [
            "['cherry', 'banana', 'apple']\n"
          ]
        }
      ]
    },
    {
      "cell_type": "code",
      "source": [
        "# 9. Create a copy of the list [1, 2, 3, 4, 5] and store it in another variable. Modify the copied list and print both lists.\n",
        "\n",
        "# Create the original list\n",
        "original_list = [1, 2, 3, 4, 5]\n",
        "\n",
        "# Create a copy of the list\n",
        "copied_list = original_list.copy()\n",
        "\n",
        "# Modify the copied list\n",
        "copied_list.append(6)\n",
        "\n",
        "# Print both lists\n",
        "print(\"Original List:\", original_list)\n",
        "print(\"Copied List:\", copied_list)"
      ],
      "metadata": {
        "colab": {
          "base_uri": "https://localhost:8080/"
        },
        "id": "FXvkrRmXbNC3",
        "outputId": "59b7ec83-efcc-400a-c0ec-39bce63185f2"
      },
      "execution_count": null,
      "outputs": [
        {
          "output_type": "stream",
          "name": "stdout",
          "text": [
            "Original List: [1, 2, 3, 4, 5]\n",
            "Copied List: [1, 2, 3, 4, 5, 6]\n"
          ]
        }
      ]
    },
    {
      "cell_type": "code",
      "source": [
        "# 10. Clear all elements from a list [“hello”, “world”, “python”] using the clear() method.\n",
        "\n",
        "# Create the list\n",
        "words = [\"hello\", \"world\", \"python\"]\n",
        "\n",
        "# Clear all elements from a list\n",
        "words.clear()\n",
        "\n",
        "# Print the list\n",
        "print(words)"
      ],
      "metadata": {
        "colab": {
          "base_uri": "https://localhost:8080/"
        },
        "id": "OXULsOLzcY57",
        "outputId": "b70ba406-06c0-4aa8-f433-6106a8b0d66a"
      },
      "execution_count": null,
      "outputs": [
        {
          "output_type": "stream",
          "name": "stdout",
          "text": [
            "[]\n"
          ]
        }
      ]
    },
    {
      "cell_type": "markdown",
      "source": [
        "Tuple-Based Questions\n",
        "\n",
        "11. Create a tuple with 5 different fruits and print the third fruit.\n",
        "12. Convert the tuple (10, 20, 30, 40, 50) into a list, remove the number 30, and convert\n",
        "it back into a tuple.\n",
        "13. Try to append an element to the tuple (“A”, “B”, “C”). What happens? How can you\n",
        "modify a tuple indirectly?\n",
        "14. Unpack the tuple (100, 200, 300) into three separate variables and print them.\n",
        "15. Count the occurrences of 7 in the tuple (7, 1, 7, 3, 7, 5)."
      ],
      "metadata": {
        "id": "HInqY8JAeZKA"
      }
    },
    {
      "cell_type": "code",
      "source": [
        "# 11. Create a tuple with 5 different fruits and print the third fruit.\n",
        "\n",
        "# Create a tuple with 5 different fruits\n",
        "fruits = (\"apple\", \"banana\", \"cherry\", \"orange\", \"grape\")\n",
        "\n",
        "# Print the third fruit (index 2)e\n",
        "print(fruits[2])"
      ],
      "metadata": {
        "colab": {
          "base_uri": "https://localhost:8080/"
        },
        "id": "sU2EqE2deUwH",
        "outputId": "3ead703e-6826-466d-c883-26e833747f7c"
      },
      "execution_count": null,
      "outputs": [
        {
          "output_type": "stream",
          "name": "stdout",
          "text": [
            "cherry\n"
          ]
        }
      ]
    },
    {
      "cell_type": "code",
      "source": [
        "# 12. Convert the tuple (10, 20, 30, 40, 50) into a list, remove the number 30, and convert it back into a tuple.\n",
        "\n",
        "# Create the tuple\n",
        "numbers_tuple = (10, 20, 30, 40, 50)\n",
        "\n",
        "# Converte the tuple into a list\n",
        "numbers_list = list(numbers_tuple)\n",
        "\n",
        "# Remove the number 30\n",
        "numbers_list.remove(30)\n",
        "\n",
        "# Converte the list back into a tuple\n",
        "numbers_tuple = tuple(numbers_list)\n",
        "\n",
        "# Print the result\n",
        "print(numbers_tuple)"
      ],
      "metadata": {
        "colab": {
          "base_uri": "https://localhost:8080/"
        },
        "id": "Vg3PeiaWfDy7",
        "outputId": "bea47414-fff2-4518-a32d-ad66c8d7b437"
      },
      "execution_count": null,
      "outputs": [
        {
          "output_type": "stream",
          "name": "stdout",
          "text": [
            "(10, 20, 40, 50)\n"
          ]
        }
      ]
    },
    {
      "cell_type": "code",
      "source": [
        "# 13. Try to append an element to the tuple (“A”, “B”, “C”). What happens? How can you modify a tuple indirectly?\n",
        "\n",
        "#Attempt to Append to a Tuple\n",
        "\n",
        "# Create a tuple\n",
        "my_tuple = (\"A\", \"B\", \"C\")\n",
        "\n",
        "# Attempt to append an element (This will raise an error)\n",
        "my_tuple.append(\"D\")"
      ],
      "metadata": {
        "colab": {
          "base_uri": "https://localhost:8080/",
          "height": 176
        },
        "id": "e8MRsRATLUZL",
        "outputId": "74b89e72-dd01-4e90-dced-f37de0cc9435"
      },
      "execution_count": null,
      "outputs": [
        {
          "output_type": "error",
          "ename": "AttributeError",
          "evalue": "'tuple' object has no attribute 'append'",
          "traceback": [
            "\u001b[0;31m---------------------------------------------------------------------------\u001b[0m",
            "\u001b[0;31mAttributeError\u001b[0m                            Traceback (most recent call last)",
            "\u001b[0;32m<ipython-input-3-25ec53d55e23>\u001b[0m in \u001b[0;36m<cell line: 0>\u001b[0;34m()\u001b[0m\n\u001b[1;32m      7\u001b[0m \u001b[0;34m\u001b[0m\u001b[0m\n\u001b[1;32m      8\u001b[0m \u001b[0;31m# Attempting to append an element (This will raise an error)\u001b[0m\u001b[0;34m\u001b[0m\u001b[0;34m\u001b[0m\u001b[0m\n\u001b[0;32m----> 9\u001b[0;31m \u001b[0mmy_tuple\u001b[0m\u001b[0;34m.\u001b[0m\u001b[0mappend\u001b[0m\u001b[0;34m(\u001b[0m\u001b[0;34m\"D\"\u001b[0m\u001b[0;34m)\u001b[0m\u001b[0;34m\u001b[0m\u001b[0;34m\u001b[0m\u001b[0m\n\u001b[0m",
            "\u001b[0;31mAttributeError\u001b[0m: 'tuple' object has no attribute 'append'"
          ]
        }
      ]
    },
    {
      "cell_type": "code",
      "source": [
        "# Modifying a Tuple Indirectly\n",
        "\n",
        "# Create a tuple\n",
        "my_tuple = (\"A\", \"B\", \"C\")\n",
        "\n",
        "# Convert tuple to a list\n",
        "temp_list = list(my_tuple)\n",
        "\n",
        "# Add an element\n",
        "temp_list.append(\"D\")\n",
        "\n",
        "# Convert back to a tuple\n",
        "modified_tuple = tuple(temp_list)\n",
        "\n",
        "# Print the modified tuple\n",
        "print(modified_tuple)"
      ],
      "metadata": {
        "colab": {
          "base_uri": "https://localhost:8080/"
        },
        "id": "jKWlPaWcMqPQ",
        "outputId": "25a9e386-acf5-4a11-e1f8-d360c33bf362"
      },
      "execution_count": null,
      "outputs": [
        {
          "output_type": "stream",
          "name": "stdout",
          "text": [
            "('A', 'B', 'C', 'D')\n"
          ]
        }
      ]
    },
    {
      "cell_type": "code",
      "source": [
        "# 14. Unpack the tuple (100, 200, 300) into three separate variables and print them.\n",
        "\n",
        "# Create the tuple\n",
        "numbers = (100, 200, 300)\n",
        "\n",
        "# Unpacking the tuple into separate variables\n",
        "a, b, c = numbers\n",
        "\n",
        "# Print the values\n",
        "print(\"a:\", a)\n",
        "print(\"b:\", b)\n",
        "print(\"c:\", c)"
      ],
      "metadata": {
        "colab": {
          "base_uri": "https://localhost:8080/"
        },
        "id": "suB5S6_AM9F9",
        "outputId": "e1a41d50-4152-4b55-a469-943274c5c64a"
      },
      "execution_count": null,
      "outputs": [
        {
          "output_type": "stream",
          "name": "stdout",
          "text": [
            "a: 100\n",
            "b: 200\n",
            "c: 300\n"
          ]
        }
      ]
    },
    {
      "cell_type": "code",
      "source": [
        "# 15. Count the occurrences of 7 in the tuple (7, 1, 7, 3, 7, 5).\n",
        "\n",
        "# Create the tuple\n",
        "numbers = (7, 1, 7, 3, 7, 5)\n",
        "\n",
        "# Count occurrences of 7\n",
        "count_7 = numbers.count(7)\n",
        "\n",
        "# Print the result\n",
        "print(\"The number 7 appears\", count_7, \"times in the tuple.\")"
      ],
      "metadata": {
        "colab": {
          "base_uri": "https://localhost:8080/"
        },
        "id": "zhbopp7ONTU0",
        "outputId": "fb2b373f-907d-4201-8158-74efa2d641b7"
      },
      "execution_count": null,
      "outputs": [
        {
          "output_type": "stream",
          "name": "stdout",
          "text": [
            "The number 7 appears 3 times in the tuple.\n"
          ]
        }
      ]
    },
    {
      "cell_type": "markdown",
      "source": [
        "Advanced Problems\n",
        "16. Write a function that takes a list and returns a new list with all even numbers removed.\n",
        "17. Create a function that accepts a list and returns a new list with elements sorted in\n",
        "descending order without using the sort() method.\n",
        "18. Given a list of numbers, write a program to remove all duplicate elements and print the\n",
        "unique elements.\n",
        "19. Given a tuple of names (“Alice”, “Bob”, “Charlie”, “Alice”, “David”), convert\n",
        "it into a list, remove duplicates, and convert it back to a tuple.\n",
        "20. Create a program that takes a list of mixed data types (int, str, float) and separates\n",
        "integers into one list, strings into another, and floats into another."
      ],
      "metadata": {
        "id": "u6PAuvfSNkuv"
      }
    },
    {
      "cell_type": "code",
      "source": [
        "# 16. Write a function that takes a list and returns a new list with all even numbers removed.\n",
        "\n",
        "def remove_evens(numbers):\n",
        "    new_list = []\n",
        "    for num in numbers:\n",
        "        if num % 2 != 0:  # only odd numbers\n",
        "            new_list.append(num)\n",
        "    return new_list\n",
        "\n",
        "numbers_list = [1, 2, 3, 4, 5, 6, 7, 8, 9, 10]\n",
        "print(remove_evens(numbers_list))"
      ],
      "metadata": {
        "colab": {
          "base_uri": "https://localhost:8080/"
        },
        "id": "uVM-0ZWsNhMo",
        "outputId": "2211771e-20e0-4e2e-e405-518af810e975"
      },
      "execution_count": null,
      "outputs": [
        {
          "output_type": "stream",
          "name": "stdout",
          "text": [
            "[1, 3, 5, 7, 9]\n"
          ]
        }
      ]
    },
    {
      "cell_type": "code",
      "source": [
        "# 17. Create a function that accepts a list and returns a new list with elements sorted in descending order without using the sort() method.\n",
        "\n",
        "def custom_sort_desc(numbers):\n",
        "    new_list = []\n",
        "    while numbers:\n",
        "        max_value = max(numbers)\n",
        "        new_list.append(max_value)\n",
        "        numbers.remove(max_value)\n",
        "    return new_list\n",
        "\n",
        "numbers_list = [5, 2, 9, 1, 7, 6]\n",
        "print(custom_sort_desc(numbers_list))"
      ],
      "metadata": {
        "colab": {
          "base_uri": "https://localhost:8080/"
        },
        "id": "7fsD1EAgRD1i",
        "outputId": "edbc4678-03c1-48f5-ab21-c7c58b674db6"
      },
      "execution_count": 2,
      "outputs": [
        {
          "output_type": "stream",
          "name": "stdout",
          "text": [
            "[9, 7, 6, 5, 2, 1]\n"
          ]
        }
      ]
    },
    {
      "cell_type": "code",
      "source": [
        "# 18. Given a list of numbers, write a program to remove all duplicate elements and print the unique elements.\n",
        "\n",
        "my_list = [1,2,3,4,1,2,3,4,5,2]\n",
        "unique_list = set(my_list)\n",
        "my_list =  list(unique_list)\n",
        "print(my_list)"
      ],
      "metadata": {
        "colab": {
          "base_uri": "https://localhost:8080/"
        },
        "id": "iTeLLkjfRoVT",
        "outputId": "8299749a-5723-46c3-e69f-37a3641f6814"
      },
      "execution_count": 4,
      "outputs": [
        {
          "output_type": "stream",
          "name": "stdout",
          "text": [
            "[1, 2, 3, 4, 5]\n"
          ]
        }
      ]
    },
    {
      "cell_type": "code",
      "source": [
        "# 19. Given a tuple of names (“Alice”, “Bob”, “Charlie”, “Alice”, “David”), convert it into a list, remove duplicates, and convert it back to a tuple.\n",
        "\n",
        "my_tuple = (\"Alice\", \"Bob\", \"Charlie\", \"Alice\", \"David\")\n",
        "names_list = list(my_tuple)\n",
        "unique_value  = set(names_list)\n",
        "my_tuple = tuple(unique_value)\n",
        "print(my_tuple)"
      ],
      "metadata": {
        "colab": {
          "base_uri": "https://localhost:8080/"
        },
        "id": "B4Clk2AFSXm5",
        "outputId": "e2f705a0-f891-49f4-d74b-090ee1ab30f7"
      },
      "execution_count": 6,
      "outputs": [
        {
          "output_type": "stream",
          "name": "stdout",
          "text": [
            "('David', 'Charlie', 'Alice', 'Bob')\n"
          ]
        }
      ]
    },
    {
      "cell_type": "code",
      "source": [
        "# 20. Create a program that takes a list of mixed data types (int, str, float) and separates integers into one list, strings into another, and floats\n",
        "# into another.\n",
        "\n",
        "mixed_list = [5, \"Zunairah\", 7.8, 10, \"Bisma\", \"Samaviya\", 8, 3.5]\n",
        "int_list = []\n",
        "str_list = []\n",
        "float_list = []\n",
        "for i in mixed_list:\n",
        "  if type(i) == int:\n",
        "    int_list.append(i)\n",
        "  elif type(i) == str:\n",
        "    str_list.append(i)\n",
        "  elif type(i) == float:\n",
        "    float_list.append(i)\n",
        "  else:\n",
        "    print(\"No type matched\")\n",
        "\n",
        "print(int_list)\n",
        "print(str_list)\n",
        "print(float_list)"
      ],
      "metadata": {
        "colab": {
          "base_uri": "https://localhost:8080/"
        },
        "id": "JKll2pMpTY_2",
        "outputId": "273dea2b-b7d9-441c-81f0-b4ea2706bb50"
      },
      "execution_count": 7,
      "outputs": [
        {
          "output_type": "stream",
          "name": "stdout",
          "text": [
            "[5, 10, 8]\n",
            "['Zunairah', 'Bisma', 'Samaviya']\n",
            "[7.8, 3.5]\n"
          ]
        }
      ]
    }
  ]
}